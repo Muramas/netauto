{
 "metadata": {
  "language_info": {
   "codemirror_mode": {
    "name": "ipython",
    "version": 3
   },
   "file_extension": ".py",
   "mimetype": "text/x-python",
   "name": "python",
   "nbconvert_exporter": "python",
   "pygments_lexer": "ipython3",
   "version": "3.8.5"
  },
  "orig_nbformat": 2,
  "kernelspec": {
   "name": "python385jvsc74a57bd0b37da4afe106ae1b029e36776a86ed807120f8c8da4d014f32d3daf4e3e5987c",
   "display_name": "Python 3.8.5 64-bit ('venv')"
  },
  "metadata": {
   "interpreter": {
    "hash": "b37da4afe106ae1b029e36776a86ed807120f8c8da4d014f32d3daf4e3e5987c"
   }
  }
 },
 "nbformat": 4,
 "nbformat_minor": 2,
 "cells": [
  {
   "cell_type": "code",
   "execution_count": 42,
   "metadata": {},
   "outputs": [],
   "source": [
    "import routeros_api\n",
    "import json, time"
   ]
  },
  {
   "cell_type": "code",
   "execution_count": 43,
   "metadata": {},
   "outputs": [],
   "source": [
    "host = '192.168.31.31'\n",
    "\n",
    "connection = routeros_api.RouterOsApiPool(host, username='admin', password='', plaintext_login=True)\n",
    "api = connection.get_api()"
   ]
  },
  {
   "cell_type": "code",
   "execution_count": 44,
   "metadata": {},
   "outputs": [],
   "source": [
    "listmangle=api.get_resource('/queue/type')"
   ]
  },
  {
   "cell_type": "code",
   "execution_count": 46,
   "metadata": {},
   "outputs": [
    {
     "output_type": "execute_result",
     "data": {
      "text/plain": [
       "[{'id': '*A',\n",
       "  'name': 'pcq_down',\n",
       "  'kind': 'pcq',\n",
       "  'pcq-rate': '0',\n",
       "  'pcq-limit': '50',\n",
       "  'pcq-classifier': 'dst-address,dst-port',\n",
       "  'pcq-total-limit': '2000',\n",
       "  'pcq-burst-rate': '0',\n",
       "  'pcq-burst-threshold': '0',\n",
       "  'pcq-burst-time': '10s',\n",
       "  'pcq-src-address-mask': '32',\n",
       "  'pcq-dst-address-mask': '32',\n",
       "  'pcq-src-address6-mask': '128',\n",
       "  'pcq-dst-address6-mask': '128',\n",
       "  'default': 'false'}]"
      ]
     },
     "metadata": {},
     "execution_count": 46
    }
   ],
   "source": [
    "listmangle.get(name='pcq_down')"
   ]
  },
  {
   "cell_type": "code",
   "execution_count": null,
   "metadata": {},
   "outputs": [],
   "source": []
  }
 ]
}