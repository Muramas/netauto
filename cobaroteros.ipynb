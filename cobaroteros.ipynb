{
 "metadata": {
  "language_info": {
   "codemirror_mode": {
    "name": "ipython",
    "version": 3
   },
   "file_extension": ".py",
   "mimetype": "text/x-python",
   "name": "python",
   "nbconvert_exporter": "python",
   "pygments_lexer": "ipython3",
   "version": "3.8.5"
  },
  "orig_nbformat": 2,
  "kernelspec": {
   "name": "python385jvsc74a57bd0b37da4afe106ae1b029e36776a86ed807120f8c8da4d014f32d3daf4e3e5987c",
   "display_name": "Python 3.8.5 64-bit ('venv')"
  },
  "metadata": {
   "interpreter": {
    "hash": "b37da4afe106ae1b029e36776a86ed807120f8c8da4d014f32d3daf4e3e5987c"
   }
  }
 },
 "nbformat": 4,
 "nbformat_minor": 2,
 "cells": [
  {
   "cell_type": "code",
   "execution_count": 12,
   "metadata": {},
   "outputs": [],
   "source": [
    "import routeros_api\n",
    "import json, time"
   ]
  },
  {
   "cell_type": "code",
   "execution_count": 14,
   "metadata": {},
   "outputs": [],
   "source": [
    "host = '192.168.31.31'\n",
    "\n",
    "connection = routeros_api.RouterOsApiPool(host, username='admin', password='', plaintext_login=True)\n",
    "api = connection.get_api()"
   ]
  },
  {
   "cell_type": "code",
   "execution_count": 17,
   "metadata": {},
   "outputs": [],
   "source": [
    "list_queue_simple = api.get_resource('ip/firewall/mangle/')\n",
    "show_queue_simple = list_queue_simple.get()"
   ]
  },
  {
   "cell_type": "code",
   "execution_count": 9,
   "metadata": {},
   "outputs": [
    {
     "output_type": "execute_result",
     "data": {
      "text/plain": [
       "'[\\n   {\\n      \"id\": \"*2\",\\n      \"address\": \"192.168.31.31/24\",\\n      \"network\": \"192.168.31.0\",\\n      \"interface\": \"ether2\",\\n      \"actual-interface\": \"ether2\",\\n      \"invalid\": \"false\",\\n      \"dynamic\": \"false\",\\n      \"disabled\": \"false\"\\n   },\\n   {\\n      \"id\": \"*3\",\\n      \"address\": \"10.0.2.15/24\",\\n      \"network\": \"10.0.2.0\",\\n      \"interface\": \"ether1\",\\n      \"actual-interface\": \"ether1\",\\n      \"invalid\": \"false\",\\n      \"dynamic\": \"true\",\\n      \"disabled\": \"false\"\\n   },\\n   {\\n      \"id\": \"*4\",\\n      \"address\": \"192.168.1.1/24\",\\n      \"network\": \"192.168.1.0\",\\n      \"interface\": \"ether3\",\\n      \"actual-interface\": \"ether3\",\\n      \"invalid\": \"false\",\\n      \"dynamic\": \"false\",\\n      \"disabled\": \"false\"\\n   }\\n]'"
      ]
     },
     "metadata": {},
     "execution_count": 9
    }
   ],
   "source": [
    "json.dumps(show_queue_simple, indent=3)"
   ]
  },
  {
   "cell_type": "code",
   "execution_count": 18,
   "metadata": {},
   "outputs": [
    {
     "output_type": "execute_result",
     "data": {
      "text/plain": [
       "[{'id': '*5',\n",
       "  'chain': 'forward',\n",
       "  'action': 'mark-packet',\n",
       "  'new-packet-mark': 'down_user',\n",
       "  'passthrough': 'false',\n",
       "  'dst-address': '192.168.1.0/24',\n",
       "  'bytes': '0',\n",
       "  'packets': '0',\n",
       "  'invalid': 'false',\n",
       "  'dynamic': 'false'},\n",
       " {'id': '*6',\n",
       "  'chain': 'forward',\n",
       "  'action': 'mark-packet',\n",
       "  'new-packet-mark': 'upl_user',\n",
       "  'passthrough': 'false',\n",
       "  'src-address': '192.168.1.0/24',\n",
       "  'bytes': '0',\n",
       "  'packets': '0',\n",
       "  'invalid': 'false',\n",
       "  'dynamic': 'false'}]"
      ]
     },
     "metadata": {},
     "execution_count": 18
    }
   ],
   "source": [
    "show_queue_simple"
   ]
  },
  {
   "cell_type": "code",
   "execution_count": null,
   "metadata": {},
   "outputs": [],
   "source": []
  }
 ]
}