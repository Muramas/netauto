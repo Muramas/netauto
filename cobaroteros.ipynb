{
 "metadata": {
  "language_info": {
   "codemirror_mode": {
    "name": "ipython",
    "version": 3
   },
   "file_extension": ".py",
   "mimetype": "text/x-python",
   "name": "python",
   "nbconvert_exporter": "python",
   "pygments_lexer": "ipython3",
   "version": "3.8.5"
  },
  "orig_nbformat": 2,
  "kernelspec": {
   "name": "python385jvsc74a57bd0b37da4afe106ae1b029e36776a86ed807120f8c8da4d014f32d3daf4e3e5987c",
   "display_name": "Python 3.8.5 64-bit ('venv')"
  },
  "metadata": {
   "interpreter": {
    "hash": "b37da4afe106ae1b029e36776a86ed807120f8c8da4d014f32d3daf4e3e5987c"
   }
  }
 },
 "nbformat": 4,
 "nbformat_minor": 2,
 "cells": [
  {
   "cell_type": "code",
   "execution_count": 30,
   "metadata": {},
   "outputs": [],
   "source": [
    "import routeros_api\n",
    "import json, time"
   ]
  },
  {
   "cell_type": "code",
   "execution_count": 31,
   "metadata": {},
   "outputs": [],
   "source": [
    "host = '192.168.31.31'\n",
    "\n",
    "connection = routeros_api.RouterOsApiPool(host, username='admin', password='', plaintext_login=True)\n",
    "api = connection.get_api()"
   ]
  },
  {
   "cell_type": "code",
   "execution_count": 32,
   "metadata": {},
   "outputs": [],
   "source": [
    "listdata = api.get_resource('/ip/address')"
   ]
  },
  {
   "cell_type": "code",
   "execution_count": 33,
   "metadata": {},
   "outputs": [
    {
     "output_type": "execute_result",
     "data": {
      "text/plain": [
       "[{'id': '*2',\n",
       "  'address': '192.168.31.31/24',\n",
       "  'network': '192.168.31.0',\n",
       "  'interface': 'ether2',\n",
       "  'actual-interface': 'ether2',\n",
       "  'invalid': 'false',\n",
       "  'dynamic': 'false',\n",
       "  'disabled': 'false'}]"
      ]
     },
     "metadata": {},
     "execution_count": 33
    }
   ],
   "source": [
    "listdata.get(network='192.168.31.0')"
   ]
  },
  {
   "cell_type": "code",
   "execution_count": null,
   "metadata": {},
   "outputs": [],
   "source": []
  }
 ]
}